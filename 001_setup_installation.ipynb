{
 "cells": [
  {
   "cell_type": "markdown",
   "metadata": {},
   "source": [
    "# SETUP AND INSTALLATION\n",
    "## Environment Setup\n",
    "\n",
    "## Installation\n",
    "### General \n",
    "```sh\n",
    "$ pip install tensorflow\n",
    "```\n",
    "### GPU Supported\n",
    "```sh\n",
    "$ pip install tensorflow-gpu\n",
    "```\n",
    "### CPU Supported\n",
    "```sh\n",
    "$ pip install tensorflow-cpu\n",
    "```\n",
    "\n"
   ]
  }
 ],
 "metadata": {
  "kernelspec": {
   "display_name": "Python 3",
   "language": "python",
   "name": "python3"
  },
  "language_info": {
   "name": "python",
   "version": "3.11.4"
  },
  "orig_nbformat": 4
 },
 "nbformat": 4,
 "nbformat_minor": 2
}
